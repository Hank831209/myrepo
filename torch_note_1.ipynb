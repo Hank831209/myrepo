{
 "cells": [
  {
   "cell_type": "code",
   "execution_count": 1,
   "id": "6b63d495-0274-4aff-aa11-2a9a2d6d2a05",
   "metadata": {},
   "outputs": [],
   "source": [
    "import torch\n",
    "import torch.nn as nn\n",
    "import torch.nn.functional as F\n",
    "\n",
    "from mpl_toolkits.mplot3d import Axes3D\n",
    "import matplotlib.pyplot as plt\n",
    "\n",
    "import numpy as np\n",
    "\n",
    "torch.manual_seed(446)\n",
    "np.random.seed(446)"
   ]
  },
  {
   "cell_type": "code",
   "execution_count": 2,
   "id": "e070a505-59d0-4c2f-8710-a6a9c6b8a852",
   "metadata": {},
   "outputs": [
    {
     "name": "stdout",
     "output_type": "stream",
     "text": [
      "torch.Size([10000, 3, 28, 28])\n",
      "torch.Size([10000, 3, 784])\n",
      "torch.Size([10000, 3, 784])\n"
     ]
    }
   ],
   "source": [
    "# \"MNIST\"\n",
    "N, C, W, H = 10000, 3, 28, 28\n",
    "X = torch.randn((N, C, W, H))\n",
    "\n",
    "print(X.shape)\n",
    "print(X.view(N, C, 784).shape)\n",
    "print(X.view(-1, C, 784).shape) # automatically choose the 0th dimension"
   ]
  },
  {
   "cell_type": "markdown",
   "id": "b4855079-989a-420f-b371-959cd5653fd3",
   "metadata": {},
   "source": [
    "# 常用語法\n",
    "### 概要 :\n",
    "> * OpenCV 全名是 Open Source Computer Vision ( Library )\n",
    "> * 白 / 黑盒子 : 介面, 參數, 傳回值\n",
    "> * 演算法 : 需了解基本原理, 對運用極有幫助, 非探究數學推倒\n",
    "> * 應  用 : 需掌握正確使用方法\n",
    "> * Q&A 社團 iCoding : https://www.facebook.com/groups/216955676502460\n",
    "---"
   ]
  },
  {
   "cell_type": "markdown",
   "id": "b88ba8b3-ac9f-42b3-a8ef-e49807a2d824",
   "metadata": {},
   "source": [
    "##  transforms\n",
    "> * OpenCV 全名是 Open Source Computer Vision ( Library )\n",
    "> * 白 / 黑盒子 : 介面, 參數, 傳回值\n",
    "> * 演算法 : 需了解基本原理, 對運用極有幫助, 非探究數學推倒\n",
    "> * 應  用 : 可使用Pycharm的ctrl+點集指令查詢官方語法怎寫的漢醫些建議, 以及左下角有一個Structure選項可以查詢該檔案內的屬性和方法\n",
    "><img src=\"./image/Structure_Pycharm.png\"  style='height:250px; width:750px'>"
   ]
  },
  {
   "cell_type": "code",
   "execution_count": null,
   "id": "702e07ab-7ad7-48ab-bb80-d63e3d7da176",
   "metadata": {},
   "outputs": [],
   "source": [
    "# 常用指令:\n",
    "# "
   ]
  }
 ],
 "metadata": {
  "kernelspec": {
   "display_name": "Python 3 (ipykernel)",
   "language": "python",
   "name": "python3"
  },
  "language_info": {
   "codemirror_mode": {
    "name": "ipython",
    "version": 3
   },
   "file_extension": ".py",
   "mimetype": "text/x-python",
   "name": "python",
   "nbconvert_exporter": "python",
   "pygments_lexer": "ipython3",
   "version": "3.10.5"
  },
  "toc-showcode": true
 },
 "nbformat": 4,
 "nbformat_minor": 5
}
